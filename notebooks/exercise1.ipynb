{
 "metadata": {
  "name": ""
 },
 "nbformat": 3,
 "nbformat_minor": 0,
 "worksheets": [
  {
   "cells": [
    {
     "cell_type": "markdown",
     "metadata": {},
     "source": [
      "#Radx to Python quickstart#\n",
      "\n",
      "This notebook is intended to provide a quickstart with Radx applications\n",
      "\n",
      "The idea is use Radx applications and read the output into a Python environment.\n",
      "\n",
      "we will make use of the fact that we can call any shell command from IPython using \"!\"."
     ]
    },
    {
     "cell_type": "code",
     "collapsed": false,
     "input": [
      "# For proper inline plotting with matplotlib/pylab\n",
      "%pylab inline"
     ],
     "language": "python",
     "metadata": {},
     "outputs": [
      {
       "output_type": "stream",
       "stream": "stdout",
       "text": [
        "Populating the interactive namespace from numpy and matplotlib\n"
       ]
      }
     ],
     "prompt_number": 6
    },
    {
     "cell_type": "code",
     "collapsed": false,
     "input": [
      "# import required packages\n",
      "import wradlib\n",
      "import os"
     ],
     "language": "python",
     "metadata": {},
     "outputs": [],
     "prompt_number": 7
    },
    {
     "cell_type": "code",
     "collapsed": false,
     "input": [
      "# set working directory\n",
      "os.chdir(\"../data/exercise1\")"
     ],
     "language": "python",
     "metadata": {},
     "outputs": [
      {
       "ename": "WindowsError",
       "evalue": "[Error 3] Das System kann den angegebenen Pfad nicht finden: '../data/exercise1'",
       "output_type": "pyerr",
       "traceback": [
        "\u001b[1;31m---------------------------------------------------------------------------\u001b[0m\n\u001b[1;31mWindowsError\u001b[0m                              Traceback (most recent call last)",
        "\u001b[1;32m<ipython-input-12-93ea3630fa4b>\u001b[0m in \u001b[0;36m<module>\u001b[1;34m()\u001b[0m\n\u001b[0;32m      1\u001b[0m \u001b[1;31m# set working directory\u001b[0m\u001b[1;33m\u001b[0m\u001b[1;33m\u001b[0m\u001b[0m\n\u001b[0;32m      2\u001b[0m \u001b[1;32mprint\u001b[0m \u001b[0mos\u001b[0m\u001b[1;33m.\u001b[0m\u001b[0mgetcwd\u001b[0m\u001b[1;33m(\u001b[0m\u001b[1;33m)\u001b[0m\u001b[1;33m\u001b[0m\u001b[0m\n\u001b[1;32m----> 3\u001b[1;33m \u001b[0mos\u001b[0m\u001b[1;33m.\u001b[0m\u001b[0mchdir\u001b[0m\u001b[1;33m(\u001b[0m\u001b[1;34m\"../data/exercise1\"\u001b[0m\u001b[1;33m)\u001b[0m\u001b[1;33m\u001b[0m\u001b[0m\n\u001b[0m",
        "\u001b[1;31mWindowsError\u001b[0m: [Error 3] Das System kann den angegebenen Pfad nicht finden: '../data/exercise1'"
       ]
      },
      {
       "output_type": "stream",
       "stream": "stdout",
       "text": [
        "E:\\src\\python\\openradar\\radx_short_course\\data\\exercise1\n"
       ]
      }
     ],
     "prompt_number": 12
    },
    {
     "cell_type": "markdown",
     "metadata": {},
     "source": [
      "#Our data set#\n",
      "\n",
      "We will be using a NEXRAD level II files from the Cleveland dual-pol 88D. You can download a larger set of example files to the `data/exercise1` directory if you like (e.g. using wget). Before using other data, you would have to untar/uncompress."
     ]
    },
    {
     "cell_type": "code",
     "collapsed": false,
     "input": [
      "!ls"
     ],
     "language": "python",
     "metadata": {},
     "outputs": [
      {
       "output_type": "stream",
       "stream": "stdout",
       "text": [
        "KCLE20121226_170504_V06\n"
       ]
      }
     ],
     "prompt_number": 16
    },
    {
     "cell_type": "markdown",
     "metadata": {},
     "source": [
      "#Our first Radx application#\n",
      "\n",
      "We first use `RadxPrint` to inspect the data"
     ]
    },
    {
     "cell_type": "code",
     "collapsed": false,
     "input": [
      "!RadxPrint KCLE20121226_170504_V06"
     ],
     "language": "python",
     "metadata": {},
     "outputs": []
    }
   ],
   "metadata": {}
  }
 ]
}