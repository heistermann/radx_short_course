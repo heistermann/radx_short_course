{
 "metadata": {
  "name": ""
 },
 "nbformat": 3,
 "nbformat_minor": 0,
 "worksheets": [
  {
   "cells": [
    {
     "cell_type": "markdown",
     "metadata": {},
     "source": [
      "#Radx to Python quickstart#\n",
      "\n",
      "This notebook is intended to provide a quickstart with Radx applications\n",
      "\n",
      "The idea is use Radx applications and read the output into a Python environment.\n",
      "\n",
      "we will make use of the fact that we can call any shell command from IPython using \"!\"."
     ]
    },
    {
     "cell_type": "code",
     "collapsed": false,
     "input": [
      "# For proper inline plotting with matplotlib/pylab\n",
      "%pylab inline"
     ],
     "language": "python",
     "metadata": {},
     "outputs": []
    },
    {
     "cell_type": "code",
     "collapsed": false,
     "input": [
      "# import required packages\n",
      "import wradlib\n",
      "import pyart\n",
      "import os"
     ],
     "language": "python",
     "metadata": {},
     "outputs": []
    },
    {
     "cell_type": "code",
     "collapsed": false,
     "input": [
      "# set working directory\n",
      "os.chdir(\"../data/exercise1\")"
     ],
     "language": "python",
     "metadata": {},
     "outputs": []
    },
    {
     "cell_type": "markdown",
     "metadata": {},
     "source": [
      "#Our data set#\n",
      "\n",
      "We will be using a NEXRAD level II files from the Cleveland dual-pol 88D. You can download a larger set of example files to the `data/exercise1` directory if you like (e.g. using wget). Before using other data, you would have to untar/uncompress."
     ]
    },
    {
     "cell_type": "code",
     "collapsed": false,
     "input": [
      "!ls"
     ],
     "language": "python",
     "metadata": {},
     "outputs": []
    },
    {
     "cell_type": "markdown",
     "metadata": {},
     "source": [
      "#Our first Radx application#\n",
      "\n",
      "We first use `RadxPrint` to inspect the data.\n",
      "\n",
      "You can use **Cell > Current Output > Toggle** to toggle the (very verbose) cell output."
     ]
    },
    {
     "cell_type": "code",
     "collapsed": false,
     "input": [
      "!RadxPrint -f KCLE*"
     ],
     "language": "python",
     "metadata": {},
     "outputs": []
    },
    {
     "cell_type": "markdown",
     "metadata": {},
     "source": [
      "#Using RadxConvert#\n",
      "\n",
      "Now we use `RadxConvert` to convert the data to CfRadial"
     ]
    },
    {
     "cell_type": "code",
     "collapsed": false,
     "input": [
      "!RadxConvert -v -compress_level 5 -f KCLE* -outdir out "
     ],
     "language": "python",
     "metadata": {},
     "outputs": []
    },
    {
     "cell_type": "code",
     "collapsed": false,
     "input": [
      "# Look into the directory again to check what happened\n",
      "!ls"
     ],
     "language": "python",
     "metadata": {},
     "outputs": []
    },
    {
     "cell_type": "markdown",
     "metadata": {},
     "source": [
      "#Show some data fields using Py-ART#\n",
      "\n",
      "*to be continued...*"
     ]
    },
    {
     "cell_type": "code",
     "collapsed": false,
     "input": [
      "data = pyart.io.read_cfradial(\"out/20121226/cfrad.20121226_170556.948_to_20121226171035.306_KCLE_v160_Surveillance_SUR.nc\")"
     ],
     "language": "python",
     "metadata": {},
     "outputs": []
    },
    {
     "cell_type": "markdown",
     "metadata": {},
     "source": [
      "#Show some data fields using wradlib#\n",
      "\n",
      "*ToDo!*"
     ]
    },
    {
     "cell_type": "code",
     "collapsed": false,
     "input": [],
     "language": "python",
     "metadata": {},
     "outputs": []
    }
   ],
   "metadata": {}
  }
 ]
}