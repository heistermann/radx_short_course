{
 "metadata": {
  "name": ""
 },
 "nbformat": 3,
 "nbformat_minor": 0,
 "worksheets": [
  {
   "cells": [
    {
     "cell_type": "markdown",
     "metadata": {},
     "source": [
      "#Radx to Python quickstart#\n",
      "\n",
      "This notebook is intended to provide a quickstart with Radx applications\n",
      "\n",
      "The idea is use Radx applications and read the output into a Python environment.\n",
      "\n",
      "we will make use of the fact that we can call any shell command from IPython using \"!\"."
     ]
    },
    {
     "cell_type": "code",
     "collapsed": false,
     "input": [
      "# For proper inline plotting with matplotlib/pylab\n",
      "%pylab inline"
     ],
     "language": "python",
     "metadata": {},
     "outputs": []
    },
    {
     "cell_type": "code",
     "collapsed": false,
     "input": [
      "# import required packages\n",
      "import wradlib\n",
      "import pyart\n",
      "import os"
     ],
     "language": "python",
     "metadata": {},
     "outputs": []
    },
    {
     "cell_type": "code",
     "collapsed": false,
     "input": [
      "# set working directory\n",
      "os.chdir(\"../data/exercise1\")"
     ],
     "language": "python",
     "metadata": {},
     "outputs": []
    },
    {
     "cell_type": "markdown",
     "metadata": {},
     "source": [
      "#Our data set#\n",
      "\n",
      "We will be using a NEXRAD level II files from the Cleveland dual-pol 88D. You can download a larger set of example files to the `data/exercise1` directory if you like (e.g. using wget). Before using other data, you would have to untar/uncompress."
     ]
    },
    {
     "cell_type": "code",
     "collapsed": false,
     "input": [
      "!ls"
     ],
     "language": "python",
     "metadata": {},
     "outputs": []
    },
    {
     "cell_type": "markdown",
     "metadata": {},
     "source": [
      "#Our first Radx application#\n",
      "\n",
      "We first use `RadxPrint` to inspect the data.\n",
      "\n",
      "You can use **Cell > Current Output > Toggle** to toggle the (very verbose) cell output."
     ]
    },
    {
     "cell_type": "code",
     "collapsed": false,
     "input": [
      "!RadxPrint -f KCLE*"
     ],
     "language": "python",
     "metadata": {},
     "outputs": []
    },
    {
     "cell_type": "markdown",
     "metadata": {},
     "source": [
      "#Using RadxConvert#\n",
      "\n",
      "Now we use `RadxConvert` to convert the data to CfRadial"
     ]
    },
    {
     "cell_type": "code",
     "collapsed": false,
     "input": [
      "!RadxConvert -v -compress_level 5 -f KCLE* -outdir out "
     ],
     "language": "python",
     "metadata": {},
     "outputs": []
    },
    {
     "cell_type": "code",
     "collapsed": false,
     "input": [
      "# Look into the directory again to check what happened\n",
      "!ls"
     ],
     "language": "python",
     "metadata": {},
     "outputs": []
    },
    {
     "cell_type": "markdown",
     "metadata": {},
     "source": [
      "#Show some data fields using Py-ART#\n",
      "\n",
      "*to be continued...*"
     ]
    },
    {
     "cell_type": "code",
     "collapsed": false,
     "input": [
      "data = pyart.io.read_cfradial(\"out/20121226/cfrad.20121226_170556.948_to_20121226_171035.306_KCLE_v160_Surveillance_SUR.nc\")"
     ],
     "language": "python",
     "metadata": {},
     "outputs": []
    },
    {
     "cell_type": "code",
     "collapsed": false,
     "input": [
      "print data.fields.keys()"
     ],
     "language": "python",
     "metadata": {},
     "outputs": []
    },
    {
     "cell_type": "code",
     "collapsed": false,
     "input": [
      "display = pyart.graph.RadarMapDisplay(data.extract_sweeps([0, 1]))\n",
      "# Setup a matplotlib figure\n",
      "f = plt.figure(figsize = [17,4])\n",
      "# Three panel plot, resolution is a basemap parameter and determines the resolution of \n",
      "# the coastline (here we set to 'i' for intermediate - 'h' for high 'l' for low)\n",
      "plt.subplot(1, 3, 1) \n",
      "display.plot_ppi_map('ZDR', max_lat = 44, min_lat =39, min_lon = -85., max_lon = -78.5, vmin = -7, vmax = 7, resolution = 'i')\n",
      "plt.subplot(1, 3, 2) \n",
      "display.plot_ppi_map('REF', max_lat = 44, min_lat =39, min_lon = -85., max_lon = -78.5, vmin = 0, vmax = 56, resolution = 'i')\n",
      "plt.subplot(1, 3, 3) \n",
      "display.plot_ppi_map('RHO', max_lat = 44, min_lat =39, min_lon = -85., max_lon = -78.5, vmin = 0.7, vmax = 1, resolution = 'i')\n"
     ],
     "language": "python",
     "metadata": {},
     "outputs": []
    },
    {
     "cell_type": "markdown",
     "metadata": {},
     "source": [
      "#Show some data fields using wradlib#\n",
      "\n",
      "*Coming soon!*"
     ]
    },
    {
     "cell_type": "code",
     "collapsed": false,
     "input": [],
     "language": "python",
     "metadata": {},
     "outputs": []
    }
   ],
   "metadata": {}
  }
 ]
}